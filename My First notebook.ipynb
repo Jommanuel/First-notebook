{
 "cells": [
  {
   "cell_type": "code",
   "execution_count": 1,
   "id": "d31b236b",
   "metadata": {},
   "outputs": [
    {
     "name": "stdout",
     "output_type": "stream",
     "text": [
      "Hello World\n"
     ]
    }
   ],
   "source": [
    "print(\"Hello World\")"
   ]
  },
  {
   "cell_type": "code",
   "execution_count": 2,
   "id": "37e403ce",
   "metadata": {},
   "outputs": [],
   "source": [
    "instructor = \"Emmanuel\""
   ]
  },
  {
   "cell_type": "code",
   "execution_count": 3,
   "id": "17ddc7c0",
   "metadata": {},
   "outputs": [
    {
     "name": "stdout",
     "output_type": "stream",
     "text": [
      "Emmanuel\n"
     ]
    }
   ],
   "source": [
    "print (instructor)"
   ]
  },
  {
   "cell_type": "code",
   "execution_count": 4,
   "id": "bb94128e",
   "metadata": {},
   "outputs": [
    {
     "name": "stdout",
     "output_type": "stream",
     "text": [
      "What is your name:Emmanuel\n",
      "Emmanuel\n"
     ]
    }
   ],
   "source": [
    "name = input(\"What is your name:\")\n",
    "print(name)"
   ]
  },
  {
   "cell_type": "code",
   "execution_count": 6,
   "id": "213fb51e",
   "metadata": {},
   "outputs": [
    {
     "name": "stdout",
     "output_type": "stream",
     "text": [
      "Are you there: yes\n",
      "yes\n"
     ]
    }
   ],
   "source": [
    "there = input(\"Are you there: \")\n",
    "print(there)\n"
   ]
  },
  {
   "cell_type": "code",
   "execution_count": 8,
   "id": "1bf5cb45",
   "metadata": {},
   "outputs": [
    {
     "name": "stdout",
     "output_type": "stream",
     "text": [
      "My_car\"Camry\"\n",
      "<class 'str'>\n"
     ]
    }
   ],
   "source": [
    "my_car = input(\"My_car\")\n",
    "print(type(\"My_car\"))"
   ]
  },
  {
   "cell_type": "code",
   "execution_count": 10,
   "id": "6f19491a",
   "metadata": {},
   "outputs": [],
   "source": [
    "age4 = 42\n",
    "Name = \"Emmauel\""
   ]
  },
  {
   "cell_type": "code",
   "execution_count": 11,
   "id": "267db86c",
   "metadata": {},
   "outputs": [
    {
     "name": "stdout",
     "output_type": "stream",
     "text": [
      "Emmanuel is 42 yeears old\n"
     ]
    }
   ],
   "source": [
    "# Explanation of F-string\n",
    "print(f\"{name} is {age4} yeears old\")"
   ]
  },
  {
   "cell_type": "code",
   "execution_count": 15,
   "id": "a8818c1b",
   "metadata": {},
   "outputs": [],
   "source": [
    "Revenue = 56\n",
    "Name = \"greenlight\""
   ]
  },
  {
   "cell_type": "code",
   "execution_count": 17,
   "id": "423baca9",
   "metadata": {},
   "outputs": [
    {
     "name": "stdout",
     "output_type": "stream",
     "text": [
      "our sales in greenlight this month is 56 million\n"
     ]
    }
   ],
   "source": [
    "print(f\"our sales in {Name} this month is {56} million\")"
   ]
  },
  {
   "cell_type": "code",
   "execution_count": 18,
   "id": "34e42fca",
   "metadata": {},
   "outputs": [],
   "source": [
    "Turnover = 90\n",
    "Name = \"Topfield\""
   ]
  },
  {
   "cell_type": "code",
   "execution_count": 20,
   "id": "103f4138",
   "metadata": {},
   "outputs": [
    {
     "name": "stdout",
     "output_type": "stream",
     "text": [
      "the Sales Topfield made last month was 90 billion naira only\n"
     ]
    }
   ],
   "source": [
    "print(f\"the Sales {Name} made last month was {90} billion naira only\")"
   ]
  },
  {
   "cell_type": "code",
   "execution_count": 21,
   "id": "da7accad",
   "metadata": {},
   "outputs": [
    {
     "name": "stdout",
     "output_type": "stream",
     "text": [
      "Moruf\n"
     ]
    }
   ],
   "source": [
    "student = \"Moruf\"\n",
    "print(student)"
   ]
  },
  {
   "cell_type": "code",
   "execution_count": 22,
   "id": "d3041d3d",
   "metadata": {},
   "outputs": [
    {
     "data": {
      "text/plain": [
       "'MORUF'"
      ]
     },
     "execution_count": 22,
     "metadata": {},
     "output_type": "execute_result"
    }
   ],
   "source": [
    "student.capitalize()\n",
    "student.upper"
   ]
  },
  {
   "cell_type": "code",
   "execution_count": 30,
   "id": "53467734",
   "metadata": {},
   "outputs": [],
   "source": [
    "spar = 45\n",
    "name = \"emmanuel\""
   ]
  },
  {
   "cell_type": "code",
   "execution_count": 37,
   "id": "9a4e9ce7",
   "metadata": {},
   "outputs": [
    {
     "name": "stdout",
     "output_type": "stream",
     "text": [
      "please check if emmanuel is at number 45 opebi\n"
     ]
    }
   ],
   "source": [
    "print(f\"please check if {name} is at number {45} opebi\")\n"
   ]
  },
  {
   "cell_type": "code",
   "execution_count": 38,
   "id": "7a177abc",
   "metadata": {},
   "outputs": [
    {
     "name": "stdout",
     "output_type": "stream",
     "text": [
      "Hello, emmanuel\n"
     ]
    }
   ],
   "source": [
    "# i want to define name variable\n",
    "my_name = \"emmanuel\"\n",
    "print(f\"Hello, {my_name}\")"
   ]
  },
  {
   "cell_type": "code",
   "execution_count": 39,
   "id": "ab854805",
   "metadata": {},
   "outputs": [
    {
     "name": "stdout",
     "output_type": "stream",
     "text": [
      "i want to eat, friedrice\n"
     ]
    }
   ],
   "source": [
    "# i want to eat define name variable\n",
    "name = \"friedrice\"\n",
    "print(f\"i want to eat, {name}\")"
   ]
  },
  {
   "cell_type": "code",
   "execution_count": 40,
   "id": "9b9a12a6",
   "metadata": {},
   "outputs": [
    {
     "name": "stdout",
     "output_type": "stream",
     "text": [
      "11°\n"
     ]
    }
   ],
   "source": [
    "number = 6\n",
    "add_5 = number +5\n",
    "print(f\"{add_5}°\")"
   ]
  },
  {
   "cell_type": "code",
   "execution_count": 44,
   "id": "0e6a777f",
   "metadata": {},
   "outputs": [
    {
     "name": "stdout",
     "output_type": "stream",
     "text": [
      "68°f is equal to 20.0°c\n"
     ]
    }
   ],
   "source": [
    "fahrenheit = 68\n",
    "celsius = (fahrenheit - 32)/1.8\n",
    "print(f\"{fahrenheit}°f is equal to {celsius}°c\")"
   ]
  },
  {
   "cell_type": "code",
   "execution_count": 55,
   "id": "f9d07ac9",
   "metadata": {},
   "outputs": [
    {
     "name": "stdout",
     "output_type": "stream",
     "text": [
      "486000.0\n"
     ]
    }
   ],
   "source": [
    "result = 30 ** 4 * 3 / 5\n",
    "print(result)"
   ]
  },
  {
   "cell_type": "code",
   "execution_count": 56,
   "id": "d07984d5",
   "metadata": {},
   "outputs": [
    {
     "name": "stdout",
     "output_type": "stream",
     "text": [
      "502.5\n"
     ]
    }
   ],
   "source": [
    "result = (47+20) * (40-10) / 4\n",
    "print(result)"
   ]
  },
  {
   "cell_type": "code",
   "execution_count": 60,
   "id": "7f6675a6",
   "metadata": {},
   "outputs": [
    {
     "data": {
      "text/plain": [
       "True"
      ]
     },
     "execution_count": 60,
     "metadata": {},
     "output_type": "execute_result"
    }
   ],
   "source": [
    "var3 = \"Emmanuel\"\n",
    "var4 = \"Joshua\"\n",
    "\n",
    "var3.startswith(\"E\") and var4.endswith(\"a\")"
   ]
  },
  {
   "cell_type": "code",
   "execution_count": 66,
   "id": "1900eedc",
   "metadata": {},
   "outputs": [
    {
     "name": "stdout",
     "output_type": "stream",
     "text": [
      "Excellent\n"
     ]
    }
   ],
   "source": [
    "score = 90\n",
    "\n",
    "if score >= 90:\n",
    "    print('Excellent')\n",
    "elif score>= 70 and score <= 89:\n",
    "    print(\"Good\")\n",
    "elif score>= 50 and score <=69:\n",
    "    print(\"average\")      \n",
    "else:\n",
    "    print(\"below Average\")   "
   ]
  },
  {
   "cell_type": "code",
   "execution_count": null,
   "id": "e0291cbb",
   "metadata": {},
   "outputs": [],
   "source": []
  }
 ],
 "metadata": {
  "kernelspec": {
   "display_name": "Python 3 (ipykernel)",
   "language": "python",
   "name": "python3"
  },
  "language_info": {
   "codemirror_mode": {
    "name": "ipython",
    "version": 3
   },
   "file_extension": ".py",
   "mimetype": "text/x-python",
   "name": "python",
   "nbconvert_exporter": "python",
   "pygments_lexer": "ipython3",
   "version": "3.11.3"
  }
 },
 "nbformat": 4,
 "nbformat_minor": 5
}
